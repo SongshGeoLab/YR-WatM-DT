{
  "cells": [
    {
      "cell_type": "markdown",
      "metadata": {},
      "source": [
        "# Scenario Query Examples\n",
        "\n",
        "This notebook demonstrates how to use `scripts/query_scenarios.py` for exploratory analysis.\n"
      ]
    },
    {
      "cell_type": "code",
      "execution_count": 1,
      "metadata": {},
      "outputs": [],
      "source": [
        "import sys\n",
        "sys.path.insert(0, '..')\n",
        "\n",
        "from scripts.query_scenarios import ScenarioQuery, quick_query, compare_params\n",
        "import polars as pl\n"
      ]
    },
    {
      "cell_type": "markdown",
      "metadata": {},
      "source": [
        "## Example 1: List available variables and parameters\n"
      ]
    },
    {
      "cell_type": "code",
      "execution_count": 2,
      "metadata": {},
      "outputs": [
        {
          "name": "stdout",
          "output_type": "stream",
          "text": [
            "Available variables:\n",
            "  - GDP per capita\n",
            "  - OA water demand province sum\n",
            "  - Total population\n",
            "  - YRB WSI\n",
            "  - YRB available surface water\n",
            "  - domestic water demand province sum\n",
            "  - hydrologic station discharge[lijin]\n",
            "  - irrigation water demand province sum\n",
            "  - production water demand province sum\n",
            "  - sediment load[lijin]\n",
            "  - water consumption of province in YRB sum\n",
            "\n",
            "Available parameters:\n",
            "  - Fertility Variation: [1.6, 1.65, 1.7, 1.75, 1.8]\n",
            "  - water-saving irrigation efficiency ratio: [0.8, 0.85, 0.9, 0.95, 1.0]\n",
            "  - fire generation share province target: [0.1, 0.15, 0.2, 0.25, 0.3, 0.35, 0.4]\n",
            "  - Ecological water flow variable: [0.2, 0.25, 0.3]\n",
            "  - Climate change scenario switch for water yield: [1, 2, 3]\n",
            "  - Diet change scenario switch: [1, 2, 3]\n"
          ]
        }
      ],
      "source": [
        "query = ScenarioQuery(\"../data_parquet\")\n",
        "\n",
        "print(\"Available variables:\")\n",
        "for var in query.list_variables():\n",
        "    print(f\"  - {var}\")\n",
        "\n",
        "print(\"\\nAvailable parameters:\")\n",
        "for param in query.param_cols:\n",
        "    values = query.scenarios.get_column(param).unique().sort().to_list()\n",
        "    print(f\"  - {param}: {values}\")\n"
      ]
    },
    {
      "cell_type": "markdown",
      "metadata": {},
      "source": [
        "## Example 2: Filter scenarios by constraints\n"
      ]
    },
    {
      "cell_type": "code",
      "execution_count": 3,
      "metadata": {},
      "outputs": [
        {
          "name": "stdout",
          "output_type": "stream",
          "text": [
            "Matching scenarios: 315\n",
            "Columns: ['scenario_name', 'Fertility Variation', 'water-saving irrigation efficiency ratio', 'fire generation share province target', 'Ecological water flow variable', 'Climate change scenario switch for water yield', 'Diet change scenario switch']\n"
          ]
        },
        {
          "data": {
            "text/html": [
              "<div><style>\n",
              ".dataframe > thead > tr,\n",
              ".dataframe > tbody > tr {\n",
              "  text-align: right;\n",
              "  white-space: pre-wrap;\n",
              "}\n",
              "</style>\n",
              "<small>shape: (5, 7)</small><table border=\"1\" class=\"dataframe\"><thead><tr><th>scenario_name</th><th>Fertility Variation</th><th>water-saving irrigation efficiency ratio</th><th>fire generation share province target</th><th>Ecological water flow variable</th><th>Climate change scenario switch for water yield</th><th>Diet change scenario switch</th></tr><tr><td>cat</td><td>f64</td><td>f64</td><td>f64</td><td>f64</td><td>i64</td><td>i64</td></tr></thead><tbody><tr><td>&quot;sc_0&quot;</td><td>1.6</td><td>0.8</td><td>0.1</td><td>0.2</td><td>1</td><td>1</td></tr><tr><td>&quot;sc_1&quot;</td><td>1.6</td><td>0.8</td><td>0.1</td><td>0.2</td><td>1</td><td>2</td></tr><tr><td>&quot;sc_2&quot;</td><td>1.6</td><td>0.8</td><td>0.1</td><td>0.2</td><td>1</td><td>3</td></tr><tr><td>&quot;sc_9&quot;</td><td>1.6</td><td>0.8</td><td>0.1</td><td>0.25</td><td>1</td><td>1</td></tr><tr><td>&quot;sc_10&quot;</td><td>1.6</td><td>0.8</td><td>0.1</td><td>0.25</td><td>1</td><td>2</td></tr></tbody></table></div>"
            ],
            "text/plain": [
              "shape: (5, 7)\n",
              "┌──────────────┬──────────────┬──────────────┬──────────────┬─────────────┬──────────┬─────────────┐\n",
              "│ scenario_nam ┆ Fertility    ┆ water-saving ┆ fire         ┆ Ecological  ┆ Climate  ┆ Diet change │\n",
              "│ e            ┆ Variation    ┆ irrigation   ┆ generation   ┆ water flow  ┆ change   ┆ scenario    │\n",
              "│ ---          ┆ ---          ┆ effici…      ┆ share        ┆ variable    ┆ scenario ┆ switch      │\n",
              "│ cat          ┆ f64          ┆ ---          ┆ province…    ┆ ---         ┆ switch…  ┆ ---         │\n",
              "│              ┆              ┆ f64          ┆ ---          ┆ f64         ┆ ---      ┆ i64         │\n",
              "│              ┆              ┆              ┆ f64          ┆             ┆ i64      ┆             │\n",
              "╞══════════════╪══════════════╪══════════════╪══════════════╪═════════════╪══════════╪═════════════╡\n",
              "│ sc_0         ┆ 1.6          ┆ 0.8          ┆ 0.1          ┆ 0.2         ┆ 1        ┆ 1           │\n",
              "│ sc_1         ┆ 1.6          ┆ 0.8          ┆ 0.1          ┆ 0.2         ┆ 1        ┆ 2           │\n",
              "│ sc_2         ┆ 1.6          ┆ 0.8          ┆ 0.1          ┆ 0.2         ┆ 1        ┆ 3           │\n",
              "│ sc_9         ┆ 1.6          ┆ 0.8          ┆ 0.1          ┆ 0.25        ┆ 1        ┆ 1           │\n",
              "│ sc_10        ┆ 1.6          ┆ 0.8          ┆ 0.1          ┆ 0.25        ┆ 1        ┆ 2           │\n",
              "└──────────────┴──────────────┴──────────────┴──────────────┴─────────────┴──────────┴─────────────┘"
            ]
          },
          "execution_count": 3,
          "metadata": {},
          "output_type": "execute_result"
        }
      ],
      "source": [
        "# Fix Fertility Variation and Climate scenario, see remaining combinations\n",
        "filtered = query.filter_scenarios({\n",
        "    \"Fertility Variation\": 1.6,\n",
        "    \"Climate change scenario switch for water yield\": 1\n",
        "})\n",
        "\n",
        "print(f\"Matching scenarios: {filtered.height}\")\n",
        "print(f\"Columns: {filtered.columns}\")\n",
        "filtered.head()\n"
      ]
    },
    {
      "cell_type": "markdown",
      "metadata": {},
      "source": [
        "## Example 3: Get time series under constraints\n"
      ]
    },
    {
      "cell_type": "code",
      "execution_count": 4,
      "metadata": {},
      "outputs": [
        {
          "name": "stdout",
          "output_type": "stream",
          "text": [
            "Shape: (454545, 11)\n"
          ]
        },
        {
          "data": {
            "text/html": [
              "<div><style>\n",
              ".dataframe > thead > tr,\n",
              ".dataframe > tbody > tr {\n",
              "  text-align: right;\n",
              "  white-space: pre-wrap;\n",
              "}\n",
              "</style>\n",
              "<small>shape: (5, 11)</small><table border=\"1\" class=\"dataframe\"><thead><tr><th>scenario_name</th><th>step</th><th>value</th><th>variable</th><th>time</th><th>Fertility Variation</th><th>water-saving irrigation efficiency ratio</th><th>fire generation share province target</th><th>Ecological water flow variable</th><th>Climate change scenario switch for water yield</th><th>Diet change scenario switch</th></tr><tr><td>cat</td><td>u32</td><td>f64</td><td>cat</td><td>f64</td><td>f64</td><td>f64</td><td>f64</td><td>f64</td><td>i64</td><td>i64</td></tr></thead><tbody><tr><td>&quot;sc_0&quot;</td><td>624</td><td>4.228751e8</td><td>&quot;Total population&quot;</td><td>2020.0</td><td>1.6</td><td>0.8</td><td>0.1</td><td>0.2</td><td>1</td><td>1</td></tr><tr><td>&quot;sc_1&quot;</td><td>624</td><td>4.228751e8</td><td>&quot;Total population&quot;</td><td>2020.0</td><td>1.6</td><td>0.8</td><td>0.1</td><td>0.2</td><td>1</td><td>2</td></tr><tr><td>&quot;sc_2&quot;</td><td>624</td><td>4.228751e8</td><td>&quot;Total population&quot;</td><td>2020.0</td><td>1.6</td><td>0.8</td><td>0.1</td><td>0.2</td><td>1</td><td>3</td></tr><tr><td>&quot;sc_3&quot;</td><td>624</td><td>4.228751e8</td><td>&quot;Total population&quot;</td><td>2020.0</td><td>1.6</td><td>0.8</td><td>0.1</td><td>0.2</td><td>2</td><td>1</td></tr><tr><td>&quot;sc_4&quot;</td><td>624</td><td>4.228751e8</td><td>&quot;Total population&quot;</td><td>2020.0</td><td>1.6</td><td>0.8</td><td>0.1</td><td>0.2</td><td>2</td><td>2</td></tr></tbody></table></div>"
            ],
            "text/plain": [
              "shape: (5, 11)\n",
              "┌────────────┬──────┬────────────┬────────────┬───┬────────────┬───────────┬───────────┬───────────┐\n",
              "│ scenario_n ┆ step ┆ value      ┆ variable   ┆ … ┆ fire       ┆ Ecologica ┆ Climate   ┆ Diet      │\n",
              "│ ame        ┆ ---  ┆ ---        ┆ ---        ┆   ┆ generation ┆ l water   ┆ change    ┆ change    │\n",
              "│ ---        ┆ u32  ┆ f64        ┆ cat        ┆   ┆ share      ┆ flow      ┆ scenario  ┆ scenario  │\n",
              "│ cat        ┆      ┆            ┆            ┆   ┆ province…  ┆ variable  ┆ switch…   ┆ switch    │\n",
              "│            ┆      ┆            ┆            ┆   ┆ ---        ┆ ---       ┆ ---       ┆ ---       │\n",
              "│            ┆      ┆            ┆            ┆   ┆ f64        ┆ f64       ┆ i64       ┆ i64       │\n",
              "╞════════════╪══════╪════════════╪════════════╪═══╪════════════╪═══════════╪═══════════╪═══════════╡\n",
              "│ sc_0       ┆ 624  ┆ 4.228751e8 ┆ Total      ┆ … ┆ 0.1        ┆ 0.2       ┆ 1         ┆ 1         │\n",
              "│            ┆      ┆            ┆ population ┆   ┆            ┆           ┆           ┆           │\n",
              "│ sc_1       ┆ 624  ┆ 4.228751e8 ┆ Total      ┆ … ┆ 0.1        ┆ 0.2       ┆ 1         ┆ 2         │\n",
              "│            ┆      ┆            ┆ population ┆   ┆            ┆           ┆           ┆           │\n",
              "│ sc_2       ┆ 624  ┆ 4.228751e8 ┆ Total      ┆ … ┆ 0.1        ┆ 0.2       ┆ 1         ┆ 3         │\n",
              "│            ┆      ┆            ┆ population ┆   ┆            ┆           ┆           ┆           │\n",
              "│ sc_3       ┆ 624  ┆ 4.228751e8 ┆ Total      ┆ … ┆ 0.1        ┆ 0.2       ┆ 2         ┆ 1         │\n",
              "│            ┆      ┆            ┆ population ┆   ┆            ┆           ┆           ┆           │\n",
              "│ sc_4       ┆ 624  ┆ 4.228751e8 ┆ Total      ┆ … ┆ 0.1        ┆ 0.2       ┆ 2         ┆ 2         │\n",
              "│            ┆      ┆            ┆ population ┆   ┆            ┆           ┆           ┆           │\n",
              "└────────────┴──────┴────────────┴────────────┴───┴────────────┴───────────┴───────────┴───────────┘"
            ]
          },
          "execution_count": 4,
          "metadata": {},
          "output_type": "execute_result"
        }
      ],
      "source": [
        "data = quick_query(\n",
        "    variable=\"Total population\",\n",
        "    filters={\"Fertility Variation\": 1.6},\n",
        "    data_dir=\"../data_parquet\",\n",
        "    time_range=(2020, 2050)\n",
        ")\n",
        "\n",
        "print(f\"Shape: {data.shape}\")\n",
        "data.head()\n"
      ]
    },
    {
      "cell_type": "markdown",
      "metadata": {},
      "source": [
        "## Example 4: Compare parameter impact (wide pivot for easy plotting)\n"
      ]
    },
    {
      "cell_type": "code",
      "execution_count": 5,
      "metadata": {},
      "outputs": [
        {
          "name": "stdout",
          "output_type": "stream",
          "text": [
            "Shape: (1281, 6)\n"
          ]
        },
        {
          "data": {
            "text/html": [
              "<div><style>\n",
              ".dataframe > thead > tr,\n",
              ".dataframe > tbody > tr {\n",
              "  text-align: right;\n",
              "  white-space: pre-wrap;\n",
              "}\n",
              "</style>\n",
              "<small>shape: (5, 6)</small><table border=\"1\" class=\"dataframe\"><thead><tr><th>time</th><th>0.8</th><th>0.85</th><th>0.9</th><th>0.95</th><th>1.0</th></tr><tr><td>f64</td><td>f64</td><td>f64</td><td>f64</td><td>f64</td><td>f64</td></tr></thead><tbody><tr><td>2020.0</td><td>0.7122713</td><td>0.7122713</td><td>0.7122713</td><td>0.7122713</td><td>0.7122713</td></tr><tr><td>2020.0625</td><td>0.709625</td><td>0.709625</td><td>0.709625</td><td>0.709625</td><td>0.709625</td></tr><tr><td>2020.125</td><td>0.706997</td><td>0.706997</td><td>0.706997</td><td>0.706997</td><td>0.706997</td></tr><tr><td>2020.1875</td><td>0.704378</td><td>0.704378</td><td>0.704378</td><td>0.704378</td><td>0.704378</td></tr><tr><td>2020.25</td><td>0.7017682</td><td>0.7017682</td><td>0.7017682</td><td>0.7017682</td><td>0.7017682</td></tr></tbody></table></div>"
            ],
            "text/plain": [
              "shape: (5, 6)\n",
              "┌───────────┬───────────┬───────────┬───────────┬───────────┬───────────┐\n",
              "│ time      ┆ 0.8       ┆ 0.85      ┆ 0.9       ┆ 0.95      ┆ 1.0       │\n",
              "│ ---       ┆ ---       ┆ ---       ┆ ---       ┆ ---       ┆ ---       │\n",
              "│ f64       ┆ f64       ┆ f64       ┆ f64       ┆ f64       ┆ f64       │\n",
              "╞═══════════╪═══════════╪═══════════╪═══════════╪═══════════╪═══════════╡\n",
              "│ 2020.0    ┆ 0.7122713 ┆ 0.7122713 ┆ 0.7122713 ┆ 0.7122713 ┆ 0.7122713 │\n",
              "│ 2020.0625 ┆ 0.709625  ┆ 0.709625  ┆ 0.709625  ┆ 0.709625  ┆ 0.709625  │\n",
              "│ 2020.125  ┆ 0.706997  ┆ 0.706997  ┆ 0.706997  ┆ 0.706997  ┆ 0.706997  │\n",
              "│ 2020.1875 ┆ 0.704378  ┆ 0.704378  ┆ 0.704378  ┆ 0.704378  ┆ 0.704378  │\n",
              "│ 2020.25   ┆ 0.7017682 ┆ 0.7017682 ┆ 0.7017682 ┆ 0.7017682 ┆ 0.7017682 │\n",
              "└───────────┴───────────┴───────────┴───────────┴───────────┴───────────┘"
            ]
          },
          "execution_count": 5,
          "metadata": {},
          "output_type": "execute_result"
        }
      ],
      "source": [
        "# Fix all params except irrigation efficiency, pivot on it for comparison\n",
        "comparison = compare_params(\n",
        "    variable=\"YRB WSI\",\n",
        "    fixed_params={\n",
        "        \"Fertility Variation\": 1.6,\n",
        "        \"fire generation share province target\": 0.1,\n",
        "        \"Ecological water flow variable\": 0.2,\n",
        "        \"Climate change scenario switch for water yield\": 1,\n",
        "        \"Diet change scenario switch\": 1\n",
        "    },\n",
        "    vary_param=\"water-saving irrigation efficiency ratio\",\n",
        "    data_dir=\"../data_parquet\",\n",
        "    time_range=(2020, 2100)\n",
        ")\n",
        "\n",
        "print(f\"Shape: {comparison.shape}\")\n",
        "comparison.head()\n"
      ]
    },
    {
      "cell_type": "markdown",
      "metadata": {},
      "source": [
        "## Example 5: Using safe variable names (original ↔ safe)\n",
        "\n",
        "Safe variable names are generated for stable file/column keys:\n",
        "- Lowercase; non-alphanumerics replaced by `_`; multiple `_` collapsed.\n",
        "- Mapping file: `data_parquet/variables_map.json` (original → safe).\n",
        "- You can query by original names (human-friendly) or safe names (stable keys).\n"
      ]
    },
    {
      "cell_type": "code",
      "execution_count": 6,
      "metadata": {},
      "outputs": [
        {
          "data": {
            "text/plain": [
              "{'hydrologic station discharge[lijin]': 'hydrologic_station_discharge_lijin',\n",
              " 'YRB available surface water': 'yrb_available_surface_water',\n",
              " 'sediment load[lijin]': 'sediment_load_lijin',\n",
              " 'irrigation water demand province sum': 'irrigation_water_demand_province_sum',\n",
              " 'production water demand province sum': 'production_water_demand_province_sum',\n",
              " 'OA water demand province sum': 'oa_water_demand_province_sum',\n",
              " 'domestic water demand province sum': 'domestic_water_demand_province_sum',\n",
              " 'GDP per capita': 'gdp_per_capita',\n",
              " 'Total population': 'total_population',\n",
              " 'YRB WSI': 'yrb_wsi',\n",
              " 'water consumption of province in YRB sum': 'water_consumption_of_province_in_yrb_sum'}"
            ]
          },
          "execution_count": 6,
          "metadata": {},
          "output_type": "execute_result"
        }
      ],
      "source": [
        "import json, pathlib\n",
        "map_path = pathlib.Path(\"../data_parquet/variables_map.json\")\n",
        "variables_map = json.loads(map_path.read_text()) if map_path.exists() else {}\n",
        "variables_map\n"
      ]
    },
    {
      "cell_type": "code",
      "execution_count": 7,
      "metadata": {},
      "outputs": [
        {
          "data": {
            "text/html": [
              "<div><style>\n",
              ".dataframe > thead > tr,\n",
              ".dataframe > tbody > tr {\n",
              "  text-align: right;\n",
              "  white-space: pre-wrap;\n",
              "}\n",
              "</style>\n",
              "<small>shape: (5, 4)</small><table border=\"1\" class=\"dataframe\"><thead><tr><th>scenario_name</th><th>variable</th><th>time</th><th>value</th></tr><tr><td>cat</td><td>cat</td><td>f64</td><td>f64</td></tr></thead><tbody><tr><td>&quot;sc_0&quot;</td><td>&quot;hydrologic station discharge[l…</td><td>2020.0</td><td>38.932888</td></tr><tr><td>&quot;sc_1&quot;</td><td>&quot;hydrologic station discharge[l…</td><td>2020.0</td><td>38.932888</td></tr><tr><td>&quot;sc_2&quot;</td><td>&quot;hydrologic station discharge[l…</td><td>2020.0</td><td>38.932888</td></tr><tr><td>&quot;sc_3&quot;</td><td>&quot;hydrologic station discharge[l…</td><td>2020.0</td><td>38.932888</td></tr><tr><td>&quot;sc_4&quot;</td><td>&quot;hydrologic station discharge[l…</td><td>2020.0</td><td>38.932888</td></tr></tbody></table></div>"
            ],
            "text/plain": [
              "shape: (5, 4)\n",
              "┌───────────────┬─────────────────────────────────┬────────┬───────────┐\n",
              "│ scenario_name ┆ variable                        ┆ time   ┆ value     │\n",
              "│ ---           ┆ ---                             ┆ ---    ┆ ---       │\n",
              "│ cat           ┆ cat                             ┆ f64    ┆ f64       │\n",
              "╞═══════════════╪═════════════════════════════════╪════════╪═══════════╡\n",
              "│ sc_0          ┆ hydrologic station discharge[l… ┆ 2020.0 ┆ 38.932888 │\n",
              "│ sc_1          ┆ hydrologic station discharge[l… ┆ 2020.0 ┆ 38.932888 │\n",
              "│ sc_2          ┆ hydrologic station discharge[l… ┆ 2020.0 ┆ 38.932888 │\n",
              "│ sc_3          ┆ hydrologic station discharge[l… ┆ 2020.0 ┆ 38.932888 │\n",
              "│ sc_4          ┆ hydrologic station discharge[l… ┆ 2020.0 ┆ 38.932888 │\n",
              "└───────────────┴─────────────────────────────────┴────────┴───────────┘"
            ]
          },
          "execution_count": 7,
          "metadata": {},
          "output_type": "execute_result"
        }
      ],
      "source": [
        "# Query by original name (human-friendly)\n",
        "q = ScenarioQuery(\"../data_parquet\")\n",
        "orig = quick_query(\n",
        "    variable=\"hydrologic station discharge[lijin]\",\n",
        "    filters={\"Fertility Variation\": 1.6},\n",
        "    data_dir=\"../data_parquet\",\n",
        "    time_range=(2020, 2020)\n",
        ")\n",
        "orig.select([\"scenario_name\", \"variable\", \"time\", \"value\"]).head()\n"
      ]
    },
    {
      "cell_type": "code",
      "execution_count": 8,
      "metadata": {},
      "outputs": [
        {
          "data": {
            "text/html": [
              "<div><style>\n",
              ".dataframe > thead > tr,\n",
              ".dataframe > tbody > tr {\n",
              "  text-align: right;\n",
              "  white-space: pre-wrap;\n",
              "}\n",
              "</style>\n",
              "<small>shape: (5, 4)</small><table border=\"1\" class=\"dataframe\"><thead><tr><th>scenario_name</th><th>variable</th><th>time</th><th>value</th></tr><tr><td>cat</td><td>cat</td><td>f64</td><td>f64</td></tr></thead><tbody><tr><td>&quot;sc_0&quot;</td><td>&quot;hydrologic station discharge[l…</td><td>2020.0</td><td>38.932888</td></tr><tr><td>&quot;sc_1&quot;</td><td>&quot;hydrologic station discharge[l…</td><td>2020.0</td><td>38.932888</td></tr><tr><td>&quot;sc_2&quot;</td><td>&quot;hydrologic station discharge[l…</td><td>2020.0</td><td>38.932888</td></tr><tr><td>&quot;sc_3&quot;</td><td>&quot;hydrologic station discharge[l…</td><td>2020.0</td><td>38.932888</td></tr><tr><td>&quot;sc_4&quot;</td><td>&quot;hydrologic station discharge[l…</td><td>2020.0</td><td>38.932888</td></tr></tbody></table></div>"
            ],
            "text/plain": [
              "shape: (5, 4)\n",
              "┌───────────────┬─────────────────────────────────┬────────┬───────────┐\n",
              "│ scenario_name ┆ variable                        ┆ time   ┆ value     │\n",
              "│ ---           ┆ ---                             ┆ ---    ┆ ---       │\n",
              "│ cat           ┆ cat                             ┆ f64    ┆ f64       │\n",
              "╞═══════════════╪═════════════════════════════════╪════════╪═══════════╡\n",
              "│ sc_0          ┆ hydrologic station discharge[l… ┆ 2020.0 ┆ 38.932888 │\n",
              "│ sc_1          ┆ hydrologic station discharge[l… ┆ 2020.0 ┆ 38.932888 │\n",
              "│ sc_2          ┆ hydrologic station discharge[l… ┆ 2020.0 ┆ 38.932888 │\n",
              "│ sc_3          ┆ hydrologic station discharge[l… ┆ 2020.0 ┆ 38.932888 │\n",
              "│ sc_4          ┆ hydrologic station discharge[l… ┆ 2020.0 ┆ 38.932888 │\n",
              "└───────────────┴─────────────────────────────────┴────────┴───────────┘"
            ]
          },
          "execution_count": 8,
          "metadata": {},
          "output_type": "execute_result"
        }
      ],
      "source": [
        "# Query by safe name (stable key)\n",
        "safe = quick_query(\n",
        "    variable=\"hydrologic_station_discharge_lijin\",\n",
        "    filters={\"Fertility Variation\": 1.6},\n",
        "    data_dir=\"../data_parquet\",\n",
        "    time_range=(2020, 2020)\n",
        ")\n",
        "safe.select([\"scenario_name\", \"variable\", \"time\", \"value\"]).head()\n"
      ]
    }
  ],
  "metadata": {
    "kernelspec": {
      "display_name": ".venv",
      "language": "python",
      "name": "python3"
    },
    "language_info": {
      "codemirror_mode": {
        "name": "ipython",
        "version": 3
      },
      "file_extension": ".py",
      "mimetype": "text/x-python",
      "name": "python",
      "nbconvert_exporter": "python",
      "pygments_lexer": "ipython3",
      "version": "3.11.13"
    }
  },
  "nbformat": 4,
  "nbformat_minor": 2
}
