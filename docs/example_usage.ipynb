{
 "cells": [
  {
   "cell_type": "markdown",
   "metadata": {},
   "source": [
    "# Scenario Query Examples\n",
    "\n",
    "This notebook demonstrates how to use `scripts/query_scenarios.py` for exploratory analysis.\n"
   ]
  },
  {
   "cell_type": "code",
   "execution_count": null,
   "metadata": {},
   "outputs": [],
   "source": [
    "import sys\n",
    "\n",
    "sys.path.insert(0, \"..\")\n",
    "\n",
    "from scripts.query_scenarios import ScenarioQuery, quick_query, compare_params"
   ]
  },
  {
   "cell_type": "markdown",
   "metadata": {},
   "source": [
    "## Example 1: List available variables and parameters\n"
   ]
  },
  {
   "cell_type": "code",
   "execution_count": null,
   "metadata": {},
   "outputs": [],
   "source": [
    "query = ScenarioQuery(\"../data_parquet\")\n",
    "\n",
    "print(\"Available variables:\")\n",
    "for var in query.list_variables():\n",
    "    print(f\"  - {var}\")\n",
    "\n",
    "print(\"\\nAvailable parameters:\")\n",
    "for param in query.param_cols:\n",
    "    values = query.scenarios.get_column(param).unique().sort().to_list()\n",
    "    print(f\"  - {param}: {values}\")"
   ]
  },
  {
   "cell_type": "markdown",
   "metadata": {},
   "source": [
    "## Example 2: Filter scenarios by constraints\n"
   ]
  },
  {
   "cell_type": "code",
   "execution_count": null,
   "metadata": {},
   "outputs": [],
   "source": [
    "# Fix Fertility Variation and Climate scenario, see remaining combinations\n",
    "filtered = query.filter_scenarios(\n",
    "    {\"Fertility Variation\": 1.6, \"Climate change scenario switch for water yield\": 1}\n",
    ")\n",
    "\n",
    "print(f\"Matching scenarios: {filtered.height}\")\n",
    "print(f\"Columns: {filtered.columns}\")\n",
    "filtered.head()"
   ]
  },
  {
   "cell_type": "markdown",
   "metadata": {},
   "source": [
    "## Example 3: Get time series under constraints\n"
   ]
  },
  {
   "cell_type": "code",
   "execution_count": null,
   "metadata": {},
   "outputs": [],
   "source": [
    "data = quick_query(\n",
    "    variable=\"Total population\",\n",
    "    filters={\"Fertility Variation\": 1.6},\n",
    "    data_dir=\"../data_parquet\",\n",
    "    time_range=(2020, 2050),\n",
    ")\n",
    "\n",
    "print(f\"Shape: {data.shape}\")\n",
    "data.head()"
   ]
  },
  {
   "cell_type": "markdown",
   "metadata": {},
   "source": [
    "## Example 4: Compare parameter impact (wide pivot for easy plotting)\n"
   ]
  },
  {
   "cell_type": "code",
   "execution_count": null,
   "metadata": {},
   "outputs": [],
   "source": [
    "# Fix all params except irrigation efficiency, pivot on it for comparison\n",
    "comparison = compare_params(\n",
    "    variable=\"YRB WSI\",\n",
    "    fixed_params={\n",
    "        \"Fertility Variation\": 1.6,\n",
    "        \"fire generation share province target\": 0.1,\n",
    "        \"Ecological water flow variable\": 0.2,\n",
    "        \"Climate change scenario switch for water yield\": 1,\n",
    "        \"Diet change scenario switch\": 1,\n",
    "    },\n",
    "    vary_param=\"water-saving irrigation efficiency ratio\",\n",
    "    data_dir=\"../data_parquet\",\n",
    "    time_range=(2020, 2100),\n",
    ")\n",
    "\n",
    "print(f\"Shape: {comparison.shape}\")\n",
    "comparison.head()"
   ]
  },
  {
   "cell_type": "markdown",
   "metadata": {},
   "source": [
    "## Example 5: Using safe variable names (original ↔ safe)\n",
    "\n",
    "Safe variable names are generated for stable file/column keys:\n",
    "- Lowercase; non-alphanumerics replaced by `_`; multiple `_` collapsed.\n",
    "- Mapping file: `data_parquet/variables_map.json` (original → safe).\n",
    "- You can query by original names (human-friendly) or safe names (stable keys).\n"
   ]
  },
  {
   "cell_type": "code",
   "execution_count": null,
   "metadata": {},
   "outputs": [],
   "source": [
    "import json\n",
    "import pathlib\n",
    "\n",
    "map_path = pathlib.Path(\"../data_parquet/variables_map.json\")\n",
    "variables_map = json.loads(map_path.read_text()) if map_path.exists() else {}\n",
    "variables_map"
   ]
  },
  {
   "cell_type": "code",
   "execution_count": null,
   "metadata": {},
   "outputs": [],
   "source": [
    "# Query by original name (human-friendly)\n",
    "q = ScenarioQuery(\"../data_parquet\")\n",
    "orig = quick_query(\n",
    "    variable=\"hydrologic station discharge[lijin]\",\n",
    "    filters={\"Fertility Variation\": 1.6},\n",
    "    data_dir=\"../data_parquet\",\n",
    "    time_range=(2020, 2020),\n",
    ")\n",
    "orig.select([\"scenario_name\", \"variable\", \"time\", \"value\"]).head()"
   ]
  },
  {
   "cell_type": "code",
   "execution_count": null,
   "metadata": {},
   "outputs": [],
   "source": [
    "# Query by safe name (stable key)\n",
    "safe = quick_query(\n",
    "    variable=\"hydrologic_station_discharge_lijin\",\n",
    "    filters={\"Fertility Variation\": 1.6},\n",
    "    data_dir=\"../data_parquet\",\n",
    "    time_range=(2020, 2020),\n",
    ")\n",
    "safe.select([\"scenario_name\", \"variable\", \"time\", \"value\"]).head()"
   ]
  }
 ],
 "metadata": {
  "kernelspec": {
   "display_name": ".venv",
   "language": "python",
   "name": "python3"
  },
  "language_info": {
   "codemirror_mode": {
    "name": "ipython",
    "version": 3
   },
   "file_extension": ".py",
   "mimetype": "text/x-python",
   "name": "python",
   "nbconvert_exporter": "python",
   "pygments_lexer": "ipython3",
   "version": "3.11.13"
  }
 },
 "nbformat": 4,
 "nbformat_minor": 2
}
