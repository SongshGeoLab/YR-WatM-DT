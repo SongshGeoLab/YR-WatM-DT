{
 "cells": [
  {
   "cell_type": "markdown",
   "id": "0",
   "metadata": {},
   "source": [
    "# Page 6: Water Stress Index Analysis\n",
    "\n",
    "Analysis of **Water Stress Index (WSI)** trends in the Yellow River Basin under different scenario parameters.\n",
    "\n",
    "## Overview\n",
    "The Water Stress Index measures the ratio of water consumption to available water resources. This page allows users to explore how WSI evolves over time under different parameter combinations. When multiple scenarios match the selected parameters, the analysis shows mean values with confidence intervals.\n",
    "\n",
    "## Key Metrics\n",
    "- **Time series visualization** with mean ± confidence interval\n",
    "- **Maximum WSI value** and the year it occurs\n",
    "- **Multi-year average** WSI across the entire period\n",
    "- **Trend analysis** (rate of change over time)\n",
    "- **Critical periods** identification (years with WSI > threshold)\n"
   ]
  },
  {
   "cell_type": "code",
   "execution_count": null,
   "id": "1",
   "metadata": {},
   "outputs": [],
   "source": [
    "import sys\n",
    "\n",
    "sys.path.insert(0, \"..\")\n",
    "\n",
    "from scripts.query_scenarios import ScenarioQuery\n",
    "\n",
    "# Initialize query engine\n",
    "query = ScenarioQuery(\"../data_parquet\")\n",
    "\n",
    "# Define the target variable\n",
    "TARGET_VARIABLE = \"YRB WSI\"\n",
    "\n",
    "# Get available parameters\n",
    "print(\"Available parameters for filtering:\")\n",
    "print(\"=\" * 60)\n",
    "for idx, param in enumerate(query.param_cols, 1):\n",
    "    unique_vals = query.scenarios.get_column(param).unique().sort().to_list()\n",
    "    print(f\"{idx}. {param}\")\n",
    "    print(f\"   Values: {unique_vals}\")\n",
    "    print()"
   ]
  },
  {
   "cell_type": "code",
   "execution_count": null,
   "id": "2",
   "metadata": {},
   "outputs": [],
   "source": [
    "from scripts.viz_helpers import quick_plot\n",
    "\n",
    "filters = {\n",
    "    \"Climate change scenario switch for water yield\": 2,\n",
    "}\n",
    "\n",
    "quick_plot(\n",
    "    query,\n",
    "    variable=\"YRB WSI\",\n",
    "    filters=filters,\n",
    "    time_range=(2020, 2100),\n",
    ")"
   ]
  }
 ],
 "metadata": {
  "kernelspec": {
   "display_name": ".venv",
   "language": "python",
   "name": "python3"
  },
  "language_info": {
   "codemirror_mode": {
    "name": "ipython",
    "version": 3
   },
   "file_extension": ".py",
   "mimetype": "text/x-python",
   "name": "python",
   "nbconvert_exporter": "python",
   "pygments_lexer": "ipython3",
   "version": "3.11.14"
  }
 },
 "nbformat": 4,
 "nbformat_minor": 5
}
