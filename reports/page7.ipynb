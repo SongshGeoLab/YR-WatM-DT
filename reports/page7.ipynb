{
 "cells": [
  {
   "cell_type": "markdown",
   "id": "0",
   "metadata": {},
   "source": [
    "# River Analysis - Discharge and Sediment Load\n",
    "\n",
    "This notebook contains two bubble charts analyzing global river characteristics:\n",
    "1. River discharge analysis\n",
    "2. Sediment load analysis\n"
   ]
  },
  {
   "cell_type": "code",
   "execution_count": null,
   "id": "1",
   "metadata": {},
   "outputs": [],
   "source": [
    "from scripts.query_scenarios import ScenarioQuery\n",
    "\n",
    "# Initialize query engine\n",
    "query = ScenarioQuery(\"../data_parquet\")"
   ]
  },
  {
   "cell_type": "code",
   "execution_count": null,
   "id": "2",
   "metadata": {},
   "outputs": [],
   "source": [
    "query.list_variables()"
   ]
  },
  {
   "cell_type": "code",
   "execution_count": null,
   "id": "3",
   "metadata": {},
   "outputs": [],
   "source": [
    "water_demand_data = query.get_series(\n",
    "    variables=[\n",
    "        \"OA water demand province sum\",\n",
    "        \"domestic water demand province sum\",\n",
    "        \"irrigation water demand province sum\",\n",
    "        \"production water demand province sum\",\n",
    "    ],\n",
    "    filters=None,\n",
    "    include_params=False,\n",
    ")\n",
    "water_demand_data.head()"
   ]
  },
  {
   "cell_type": "code",
   "execution_count": null,
   "id": "4",
   "metadata": {},
   "outputs": [],
   "source": [
    "# Define water demand categories\n",
    "WATER_CATEGORIES = [\n",
    "    \"irrigation water demand province sum\",\n",
    "    \"production water demand province sum\",\n",
    "    \"OA water demand province sum\",\n",
    "    \"domestic water demand province sum\",\n",
    "]\n",
    "\n",
    "# Simplified display names for categories\n",
    "CATEGORY_NAMES = {\n",
    "    \"irrigation water demand province sum\": \"Agricultural Irrigation\",\n",
    "    \"production water demand province sum\": \"Industrial Production\",\n",
    "    \"OA water demand province sum\": \"Animal husbandry and fishery\",\n",
    "    \"domestic water demand province sum\": \"Urban & Rural Domestic\",\n",
    "}\n",
    "\n",
    "# Color scheme for water categories\n",
    "CATEGORY_COLORS = {\n",
    "    \"Agricultural Irrigation\": \"#1f77b4\",\n",
    "    \"Industrial Production\": \"#ff7f0e\",\n",
    "    \"Animal husbandry and fishery\": \"#2ca02c\",\n",
    "    \"Urban & Rural Domestic\": \"#d62728\",\n",
    "}"
   ]
  },
  {
   "cell_type": "code",
   "execution_count": null,
   "id": "5",
   "metadata": {},
   "outputs": [],
   "source": [
    "import polars as pl\n",
    "import plotly.graph_objects as go\n",
    "\n",
    "# Calculate total demand for each category across all time periods and scenarios\n",
    "composition_data = (\n",
    "    water_demand_data.group_by(\"variable\")\n",
    "    .agg(pl.col(\"value\").sum().alias(\"total_demand\"))\n",
    "    .with_columns(\n",
    "        pl.col(\"variable\").cast(pl.Utf8).replace(CATEGORY_NAMES).alias(\"category\")\n",
    "    )\n",
    "    .with_columns(\n",
    "        (pl.col(\"total_demand\") / pl.col(\"total_demand\").sum() * 100).alias(\n",
    "            \"percentage\"\n",
    "        )\n",
    "    )\n",
    "    .sort(\"total_demand\", descending=True)\n",
    ")\n",
    "\n",
    "print(\"Water Demand Composition:\")\n",
    "print(composition_data)\n",
    "\n",
    "# Create treemap-style proportional area chart\n",
    "fig_composition = go.Figure(\n",
    "    go.Treemap(\n",
    "        labels=composition_data[\"category\"].to_list(),\n",
    "        parents=[\"\"] * composition_data.height,  # All at root level\n",
    "        values=composition_data[\"total_demand\"].to_list(),\n",
    "        text=[\n",
    "            f\"{cat}<br>{pct:.1f}%\"\n",
    "            for cat, pct in zip(\n",
    "                composition_data[\"category\"].to_list(),\n",
    "                composition_data[\"percentage\"].to_list(),\n",
    "            )\n",
    "        ],\n",
    "        textposition=\"middle center\",\n",
    "        marker=dict(\n",
    "            colors=[\n",
    "                CATEGORY_COLORS[cat] for cat in composition_data[\"category\"].to_list()\n",
    "            ],\n",
    "            line=dict(width=2, color=\"white\"),\n",
    "        ),\n",
    "        hovertemplate=\"<b>%{label}</b><br>Total Demand: %{value:.2e}<br>Percentage: %{percentRoot:.1f}%<extra></extra>\",\n",
    "    )\n",
    ")\n",
    "\n",
    "fig_composition.update_layout(\n",
    "    title=\"Composition\", height=500, margin=dict(t=80, l=10, r=10, b=10)\n",
    ")\n",
    "\n",
    "fig_composition.show()"
   ]
  },
  {
   "cell_type": "markdown",
   "id": "6",
   "metadata": {},
   "source": [
    "## 3. Water Demand Composition (Proportional Area Chart)\n",
    "\n",
    "Calculate total water demand across all time periods for each category and visualize as proportional rectangles.\n"
   ]
  },
  {
   "cell_type": "code",
   "execution_count": null,
   "id": "7",
   "metadata": {},
   "outputs": [],
   "source": [
    "# Calculate total water demand per scenario per time step\n",
    "total_demand_ts = (\n",
    "    water_demand_data.group_by([\"scenario_name\", \"step\", \"time\"])\n",
    "    .agg(pl.col(\"value\").sum().alias(\"total_demand\"))\n",
    "    .sort([\"scenario_name\", \"step\"])\n",
    ")\n",
    "\n",
    "# Calculate statistics across scenarios for each time point\n",
    "# Mean, standard deviation, and confidence intervals (95% = mean ± 1.96*std)\n",
    "ts_stats = (\n",
    "    total_demand_ts.group_by([\"step\", \"time\"])\n",
    "    .agg(\n",
    "        [\n",
    "            pl.col(\"total_demand\").mean().alias(\"mean\"),\n",
    "            pl.col(\"total_demand\").std().alias(\"std\"),\n",
    "            pl.col(\"total_demand\").min().alias(\"min\"),\n",
    "            pl.col(\"total_demand\").max().alias(\"max\"),\n",
    "            pl.col(\"total_demand\").quantile(0.05).alias(\"p05\"),\n",
    "            pl.col(\"total_demand\").quantile(0.95).alias(\"p95\"),\n",
    "            pl.col(\"total_demand\").count().alias(\"n_scenarios\"),\n",
    "        ]\n",
    "    )\n",
    "    .with_columns(\n",
    "        [\n",
    "            (pl.col(\"mean\") - 1.96 * pl.col(\"std\")).alias(\"ci_lower\"),\n",
    "            (pl.col(\"mean\") + 1.96 * pl.col(\"std\")).alias(\"ci_upper\"),\n",
    "        ]\n",
    "    )\n",
    "    .sort(\"step\")\n",
    ")\n",
    "\n",
    "print(f\"Time series statistics calculated for {ts_stats.height} time points\")\n",
    "print(f\"Number of scenarios: {ts_stats['n_scenarios'][0]}\")\n",
    "ts_stats.head()"
   ]
  },
  {
   "cell_type": "markdown",
   "id": "8",
   "metadata": {},
   "source": [
    "## 4. Total Water Demand Time Series\n",
    "\n",
    "Aggregate all categories to get total water demand over time. If multiple scenarios exist, show mean ± confidence interval.\n"
   ]
  },
  {
   "cell_type": "code",
   "execution_count": null,
   "id": "9",
   "metadata": {},
   "outputs": [],
   "source": [
    "from scripts.viz_helpers import quick_plot\n",
    "\n",
    "quick_plot(\n",
    "    query,\n",
    "    variable=\"water consumption of province in YRB sum\",\n",
    "    filters=None,\n",
    "    time_range=(2020, 2100),\n",
    ")"
   ]
  }
 ],
 "metadata": {
  "kernelspec": {
   "display_name": ".venv",
   "language": "python",
   "name": "python3"
  },
  "language_info": {
   "codemirror_mode": {
    "name": "ipython",
    "version": 3
   },
   "file_extension": ".py",
   "mimetype": "text/x-python",
   "name": "python",
   "nbconvert_exporter": "python",
   "pygments_lexer": "ipython3",
   "version": "3.11.13"
  }
 },
 "nbformat": 4,
 "nbformat_minor": 5
}
