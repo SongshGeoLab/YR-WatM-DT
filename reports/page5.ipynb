{
 "cells": [
  {
   "cell_type": "markdown",
   "id": "0",
   "metadata": {},
   "source": [
    "# Page 5: Water Demand Composition Analysis\n",
    "\n",
    "Analysis of how **water saving irrigation efficiency ratio** and **Fire generation share** parameters affect the composition and trends of different water demand categories.\n",
    "\n",
    "## Parameters\n",
    "- **water saving irrigation efficiency ratio**: [0.8, 0.85, 0.9, 0.95, 1.0]\n",
    "- **Fire generation share province target**: [0.1, 0.15, 0.2, 0.25, 0.3, 0.35, 0.4]\n",
    "\n",
    "## Outputs\n",
    "- Water demand composition (proportional area chart)\n",
    "- Total water demand time series (mean + confidence interval)\n",
    "- Key statistics (max value, max year, multi-year average, etc.)\n"
   ]
  },
  {
   "cell_type": "code",
   "execution_count": null,
   "id": "1",
   "metadata": {},
   "outputs": [],
   "source": [
    "import sys\n",
    "\n",
    "sys.path.insert(0, \"..\")\n",
    "\n",
    "from scripts.query_scenarios import ScenarioQuery\n",
    "\n",
    "# Initialize query engine\n",
    "query = ScenarioQuery(\"../data_parquet\")\n",
    "\n",
    "# Define water demand categories\n",
    "WATER_CATEGORIES = [\n",
    "    \"irrigation water demand province sum\",\n",
    "    \"production water demand province sum\",\n",
    "    \"OA water demand province sum\",\n",
    "    \"domestic water demand province sum\",\n",
    "]\n",
    "\n",
    "# Simplified display names for categories\n",
    "CATEGORY_NAMES = {\n",
    "    \"irrigation water demand province sum\": \"Irrigation\",\n",
    "    \"production water demand province sum\": \"Production\",\n",
    "    \"OA water demand province sum\": \"Other Activities\",\n",
    "    \"domestic water demand province sum\": \"Domestic\",\n",
    "}\n",
    "\n",
    "# Color scheme for water categories\n",
    "CATEGORY_COLORS = {\n",
    "    \"Agricultural Irrigation\": \"#1f77b4\",\n",
    "    \"Industrial Production\": \"#ff7f0e\",\n",
    "    \"Animal husbandry and fishery\": \"#2ca02c\",\n",
    "    \"Urban & Rural Domestic\": \"#d62728\",\n",
    "}"
   ]
  },
  {
   "cell_type": "code",
   "execution_count": null,
   "id": "2",
   "metadata": {},
   "outputs": [],
   "source": [
    "from scripts.analysis_helpers import sensitivity_test\n",
    "\n",
    "# ========== 敏感性分析 ==========\n",
    "results = sensitivity_test(\n",
    "    query,\n",
    "    vary_param=\"water saving irrigation efficiency ratio\",\n",
    "    time_range=(2020, 2100),\n",
    "    metric=\"cv\",\n",
    ")\n",
    "results"
   ]
  },
  {
   "cell_type": "code",
   "execution_count": null,
   "id": "3",
   "metadata": {},
   "outputs": [],
   "source": [
    "# ========== 敏感性分析 ==========\n",
    "results = sensitivity_test(\n",
    "    query,\n",
    "    vary_param=\"fire generation share province target\",\n",
    "    time_range=(2020, 2100),\n",
    "    metric=\"cv\",\n",
    ")\n",
    "results"
   ]
  },
  {
   "cell_type": "markdown",
   "id": "4",
   "metadata": {},
   "source": [
    "## 1. Parameter Selection\n",
    "\n",
    "Define the parameters to analyze. Frontend will provide these via sliders.\n"
   ]
  },
  {
   "cell_type": "code",
   "execution_count": null,
   "id": "5",
   "metadata": {},
   "outputs": [],
   "source": [
    "from scripts.viz_helpers import quick_plot\n",
    "\n",
    "filters = {\n",
    "    # \"Climate change scenario switch for water yield\": 2,\n",
    "}\n",
    "\n",
    "quick_plot(\n",
    "    query,\n",
    "    variable=\"irrigation water demand province sum\",\n",
    "    filters=filters,\n",
    "    time_range=(2020, 2100),\n",
    ")"
   ]
  },
  {
   "cell_type": "markdown",
   "id": "6",
   "metadata": {},
   "source": [
    "## 2. Load Water Demand Data\n",
    "\n",
    "Fetch all water demand categories for the selected scenarios.\n"
   ]
  },
  {
   "cell_type": "code",
   "execution_count": null,
   "id": "7",
   "metadata": {},
   "outputs": [],
   "source": [
    "from scripts.viz_helpers import quick_plot\n",
    "\n",
    "filters = {\n",
    "    # \"Climate change scenario switch for water yield\": 2,\n",
    "}\n",
    "\n",
    "quick_plot(\n",
    "    query,\n",
    "    variable=\"production water demand province sum\",\n",
    "    filters=filters,\n",
    "    time_range=(2020, 2100),\n",
    ")"
   ]
  }
 ],
 "metadata": {
  "kernelspec": {
   "display_name": ".venv",
   "language": "python",
   "name": "python3"
  },
  "language_info": {
   "codemirror_mode": {
    "name": "ipython",
    "version": 3
   },
   "file_extension": ".py",
   "mimetype": "text/x-python",
   "name": "python",
   "nbconvert_exporter": "python",
   "pygments_lexer": "ipython3",
   "version": "3.11.14"
  }
 },
 "nbformat": 4,
 "nbformat_minor": 5
}
